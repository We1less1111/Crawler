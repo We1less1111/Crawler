{
 "cells": [
  {
   "cell_type": "code",
   "execution_count": 1,
   "id": "f838c819",
   "metadata": {},
   "outputs": [],
   "source": [
    "import requests\n",
    "from bs4 import BeautifulSoup\n",
    "url = \"https://15445.courses.cs.cmu.edu/fall2019/schedule.html\"\n",
    "r = requests.get(url)\n",
    "r.encoding='utf-8'\n",
    "soup = BeautifulSoup(r.text)"
   ]
  },
  {
   "cell_type": "code",
   "execution_count": 13,
   "id": "461b9b1a",
   "metadata": {},
   "outputs": [],
   "source": [
    "t = soup.find(name=\"table\", attrs={\"class\" :\"table table-striped\"})"
   ]
  },
  {
   "cell_type": "code",
   "execution_count": 14,
   "id": "879415b1",
   "metadata": {},
   "outputs": [],
   "source": [
    "tds = t.findAll(name=\"td\",attrs={\"class\":\"calendar-slides\"})"
   ]
  },
  {
   "cell_type": "code",
   "execution_count": 25,
   "id": "0cdc67a2",
   "metadata": {},
   "outputs": [
    {
     "name": "stdout",
     "output_type": "stream",
     "text": [
      "/slides/01-introduction.pdf  ok  !!!\n",
      "/slides/02-advancedsql.pdf  ok  !!!\n",
      "/slides/03-storage1.pdf  ok  !!!\n",
      "/slides/04-storage2.pdf  ok  !!!\n",
      "/slides/05-bufferpool.pdf  ok  !!!\n",
      "/slides/06-hashtables.pdf  ok  !!!\n",
      "/slides/07-trees1.pdf  ok  !!!\n",
      "/slides/08-trees2.pdf  ok  !!!\n",
      "/slides/09-indexconcurrency.pdf  ok  !!!\n",
      "/slides/10-sorting.pdf  ok  !!!\n",
      "/slides/11-joins.pdf  ok  !!!\n",
      "/slides/12-queryexecution1.pdf  ok  !!!\n",
      "/slides/13-queryexecution2.pdf  ok  !!!\n",
      "/slides/14-optimization1.pdf  ok  !!!\n",
      "/slides/15-optimization2.pdf  ok  !!!\n",
      "/slides/16-concurrencycontrol.pdf  ok  !!!\n",
      "/slides/17-twophaselocking.pdf  ok  !!!\n",
      "/slides/18-timestampordering.pdf  ok  !!!\n",
      "/slides/19-multiversioning.pdf  ok  !!!\n",
      "/slides/20-logging.pdf  ok  !!!\n",
      "/slides/21-recovery.pdf  ok  !!!\n",
      "/slides/22-distributed.pdf  ok  !!!\n",
      "/slides/23-distributedoltp.pdf  ok  !!!\n",
      "/slides/24-distributedolap.pdf  ok  !!!\n",
      "/slides/25-oracle.pdf  ok  !!!\n",
      "/slides/26-potpourri.pdf  ok  !!!\n"
     ]
    }
   ],
   "source": [
    "baseurl = \"https://15445.courses.cs.cmu.edu/fall2019\"\n",
    "for td in tds:  \n",
    "    a_s = td.findAll(name=\"a\")\n",
    "    if len(a_s) == 0:\n",
    "        continue\n",
    "    url_item =  a_s[0][\"href\"][1:]\n",
    "    r_pdf = requests.get(baseurl+url_item)\n",
    "    r_pdf.encoding='utf-8'\n",
    "    with open(\"D:/Graduate_Stage/learning/15-445 2019PDF\" + url_item, 'wb+') as f:\n",
    "        f.write(r_pdf.content)\n",
    "    print(url_item+ \"  ok  !!!\")\n"
   ]
  },
  {
   "cell_type": "code",
   "execution_count": 22,
   "id": "038e4164",
   "metadata": {},
   "outputs": [
    {
     "data": {
      "text/plain": [
       "'/slides/01-introduction.pdf'"
      ]
     },
     "execution_count": 22,
     "metadata": {},
     "output_type": "execute_result"
    }
   ],
   "source": [
    "tds[0].find(name=\"a\")[\"href\"][1:]"
   ]
  },
  {
   "cell_type": "code",
   "execution_count": null,
   "id": "c65ea039",
   "metadata": {},
   "outputs": [],
   "source": []
  }
 ],
 "metadata": {
  "kernelspec": {
   "display_name": "Python 3 (ipykernel)",
   "language": "python",
   "name": "python3"
  },
  "language_info": {
   "codemirror_mode": {
    "name": "ipython",
    "version": 3
   },
   "file_extension": ".py",
   "mimetype": "text/x-python",
   "name": "python",
   "nbconvert_exporter": "python",
   "pygments_lexer": "ipython3",
   "version": "3.9.7"
  }
 },
 "nbformat": 4,
 "nbformat_minor": 5
}
