{
 "cells": [
  {
   "cell_type": "code",
   "execution_count": 7,
   "metadata": {},
   "outputs": [
    {
     "name": "stdout",
     "output_type": "stream",
     "text": [
      "['院校汇总', '西安交通大学（超星）', '西安科技大学（超星）', '西安电子科技大学 （自建）', '西安财经大学（弘成）', '长安大学（网梯）', '西安工业大学（文才+弘成）', '西安工程大学（）', '西北工业大学（青书）', '延安大学（青书）', '西安建筑科技大学（青书)', '西安石油大学（青书）', '西安邮电大学（青书）', '宝鸡文理学院（青书）', '西北农林科技大学（）', '陕西师范大学（）', '西安理工大学（文才）', '陕西科技大学', '陕西中医药大学', '西安医学院（网梯）', '陕西理工大学（）', '西安体育学院（）', '专科学院']\n",
      "院校汇总\n",
      "西安交通大学（超星）\n",
      "西安科技大学（超星）\n",
      "西安电子科技大学 （自建）\n",
      "西安财经大学（弘成）\n",
      "长安大学（网梯）\n",
      "西安工业大学（文才+弘成）\n",
      "西安工程大学（）\n",
      "西北工业大学（青书）\n",
      "延安大学（青书）\n",
      "西安建筑科技大学（青书)\n",
      "西安石油大学（青书）\n",
      "西安邮电大学（青书）\n",
      "宝鸡文理学院（青书）\n",
      "西北农林科技大学（）\n",
      "陕西师范大学（）\n",
      "西安理工大学（文才）\n",
      "陕西科技大学\n",
      "陕西中医药大学\n",
      "西安医学院（网梯）\n",
      "陕西理工大学（）\n",
      "西安体育学院（）\n",
      "专科学院\n"
     ]
    },
    {
     "name": "stderr",
     "output_type": "stream",
     "text": [
      "/Library/Frameworks/Python.framework/Versions/3.6/lib/python3.6/site-packages/pandas/util/_decorators.py:118: FutureWarning: The `sheetname` keyword is deprecated, use `sheet_name` instead\n",
      "  return func(*args, **kwargs)\n"
     ]
    }
   ],
   "source": [
    "import  pandas as pd\n",
    "filepath = \"/Users/apple/Desktop/ll.xlsx\"\n",
    "\n",
    "def read_excel2(path):\n",
    "    data_xls = pd.io.excel.ExcelFile(path)\n",
    "    data={}\n",
    "    print(data_xls.sheet_names)\n",
    "    for name in data_xls.sheet_names:\n",
    "        df=pd.read_excel(data_xls,sheetname=name)\n",
    "        data[name]=df\n",
    "        print(name)\n",
    "    return data\n",
    "\n",
    "\n",
    "data= read_excel2(filepath)"
   ]
  },
  {
   "cell_type": "code",
   "execution_count": 20,
   "metadata": {},
   "outputs": [
    {
     "name": "stdout",
     "output_type": "stream",
     "text": [
      "Index(['序号', '函授站'], dtype='object')\n",
      "西安理工大学继续教育西安电力机械制造公司机电学院函授站\n"
     ]
    }
   ],
   "source": [
    "print(data['专科学院'].columns)\n",
    "print(data['西安理工大学（文才）']['函授站'][19])"
   ]
  },
  {
   "cell_type": "code",
   "execution_count": 56,
   "metadata": {},
   "outputs": [
    {
     "name": "stdout",
     "output_type": "stream",
     "text": [
      "西安建设科技专修 西安生物医药技术专修 西安建设科技专修 西安交通大学（超星）\n",
      "西安市长安四维职业技能 西安交通农民基地（安康育英中等职业） 西安市长安四维职业技能 西安交通大学（超星）\n",
      "西安工业科技技术 西安建设科技专修 西安建设科技专修 西安科技大学（超星）\n",
      "西安城市建设职业 西安市长安四维职业技能 西安市长安四维职业技能 西安电子科技大学 （自建）\n",
      "陕西农电技校 陕西省农业广播电视略阳县分校 陕西农电技校 西安电子科技大学 （自建）\n",
      "西安市长安四维职业技能 陕西省西安市阎良区职教中心 西安市长安四维职业技能 西安财经大学（弘成）\n",
      "陕西技术交通技师 西安城市交通技师 西安城市交通技师 长安大学（网梯）\n",
      "西安汽车科技职业 西安市长安四维职业技能 西安市长安四维职业技能 长安大学（网梯）\n",
      "西安华中科技技师 西安建设科技专修 西安建设科技专修 西安工业大学（文才+弘成）\n",
      "陕西全务发展 陕西全务人才发展 陕西全务人才发展 西安工程大学（）\n",
      "西安弗斯特艺术 西安泰伦特艺术技工 西安弗斯特艺术 西安工程大学（）\n",
      "陕西新华电脑软件 陕西新华电脑软件 陕西新华电脑软件 西安工程大学（）\n",
      "西安理工科技专修 西安建设科技专修 西安建设科技专修 延安大学（青书）\n",
      "陕西建设技术 陕西建设技师 陕西建设技师 西安建筑科技大学（青书)\n",
      "西安石油化工技工 西安建筑工程技师 西安建筑工程技师 西安石油大学（青书）\n",
      "陕西天地财务会计技术 陕西天地财务会计技术 陕西天地财务会计技术 西安石油大学（青书）\n",
      "西安八一中等职业 安康高新中等职业 安康高新中等职业 西安石油大学（青书）\n",
      "西安东亚科技专修 西安建设科技专修 西安建设科技专修 西安石油大学（青书）\n",
      "西安医学高等专科 西安众诚学高教育科技 西安医学高等专科 西安石油大学（青书）\n",
      "西安理工大本部 西安工程大本部 西安工程大本部 西安理工大学（文才）\n",
      "陕西科技技师 陕西建设技师 陕西建设技师 西安理工大学（文才）\n",
      "陕西省印刷技工 陕西省渭南技工 陕西省渭南技工 西安理工大学（文才）\n",
      "汉中南郑职教中心 略阳县天津职教中心 汉中南郑职教中心 西安理工大学（文才）\n",
      "西安技术工程技术 西安建筑工程技师 西安建筑工程技师 陕西科技大学\n",
      "西安机电科技技师 西安建设科技专修 西安建设科技专修 陕西科技大学\n",
      "泾阳县中等卫生 武功县中等卫生职业 武功县中等卫生职业 陕西中医药大学\n",
      "西安医护专修 西安医护专修 西安医护专修 陕西中医药大学\n",
      "西安海棠职业 西安海棠职业 西安海棠职业 陕西中医药大学\n",
      "西安市鄂邑区卫生职业 西安市长安四维职业技能 西安市长安四维职业技能 陕西中医药大学\n",
      "宝鸡亚太专修 宝鸡亚太专修 宝鸡亚太专修 陕西中医药大学\n",
      "安康育英中等职业 安康高新中等职业 安康高新中等职业 陕西中医药大学\n",
      "西安市长安四维职业技能 西安昆仑工业（集团）有限责任公司技工 西安市长安四维职业技能 西安医学院（网梯）\n",
      "安康高新中等职业 高教系统职业中等专业 安康高新中等职业 西安医学院（网梯）\n",
      "长安区新时代职业技能 西安市长安四维职业技能 西安市长安四维职业技能 西安医学院（网梯）\n",
      "商州凯跃职业技能 商州凯跃职业技能 商州凯跃职业技能 西安医学院（网梯）\n",
      "西安建筑工程技师 西安建筑工程技师 西安建筑工程技师 陕西理工大学（）\n",
      "宝鸡市体育运动 西安市体育运动 西安市体育运动 西安体育学院（）\n"
     ]
    }
   ],
   "source": [
    "import  pandas as pd\n",
    "filepath = \"/Users/apple/Desktop/ll.xlsx\"\n",
    "\n",
    "def read_excel2(path):\n",
    "    data_xls = pd.io.excel.ExcelFile(path)\n",
    "    data={}\n",
    "    print(data_xls.sheet_names)\n",
    "    for name in data_xls.sheet_names:\n",
    "        df=pd.read_excel(data_xls,sheetname=name)\n",
    "        data[name]=df\n",
    "        print(name)\n",
    "    return data\n",
    "\n",
    "\n",
    "data= read_excel2(filepath)\n",
    "import numpy as np\n",
    "dicSch = {}\n",
    "def check(dic,keyx,sheet):\n",
    "    for key in dic.keys():\n",
    "        maxkey = key\n",
    "        minkey = keyx\n",
    "        if len(key)<len(keyx):\n",
    "            maxkey = keyx\n",
    "            minkey = key\n",
    "        count =0\n",
    "        for i in range(len(minkey)):\n",
    "            if minkey[i] in maxkey:\n",
    "                count+=1\n",
    "            if count >=5:\n",
    "                dic[key].add(sheet+\"--\"+keyx)\n",
    "                print(minkey,maxkey,key,sheet)\n",
    "                return 1\n",
    "    return 0\n",
    "        \n",
    "def myreplace(sch):\n",
    "    listDel = [\"职业技术\",\"培训中心\",\"学校\",\"学院\",\"有限公司\",\"函授站\",\"研究院\",\"学习中心\",\"大学\",\"培训\",\"继续教育\",\"教育中心\"]\n",
    "    for x in listDel:\n",
    "        sch = sch.replace(x,\"\")\n",
    "    return sch\n",
    "for key in data.keys():\n",
    "    if key != \"专科学院\":\n",
    "        sheet = data[key]\n",
    "        #print(key)\n",
    "        if '函授站' in sheet.columns:\n",
    "            for i in range(len(sheet['函授站'])):\n",
    "                sch = sheet['函授站'][i]\n",
    "                if str(sch)!='nan':\n",
    "                    sch = myreplace(sch)\n",
    "                    if not check(dicSch,sch,key):\n",
    "                        dicSch[sch] = set()\n",
    "                        dicSch[sch].add(key)\n"
   ]
  },
  {
   "cell_type": "code",
   "execution_count": 58,
   "metadata": {
    "scrolled": true
   },
   "outputs": [
    {
     "name": "stdout",
     "output_type": "stream",
     "text": [
      "1 西安建设科技专修 {'西安石油大学（青书）--西安东亚科技专修', '西安交通大学（超星）--西安生物医药技术专修', '陕西科技大学--西安机电科技技师', '西安科技大学（超星）--西安工业科技技术', '西安交通大学（超星）', '西安工业大学（文才+弘成）--西安华中科技技师', '延安大学（青书）--西安理工科技专修'}\n",
      "2 西安医学高等专科 {'西安石油大学（青书）--西安众诚学高教育科技', '西安交通大学（超星）'}\n",
      "3 西安海棠职业 {'西安交通大学（超星）', '陕西中医药大学--西安海棠职业'}\n",
      "4 陕西建设技师 {'西安交通大学（超星）', '西安理工大学（文才）--陕西科技技师', '西安建筑科技大学（青书)--陕西建设技术'}\n",
      "5 西安市长安四维职业技能 {'西安电子科技大学 （自建）--西安城市建设职业', '陕西中医药大学--西安市鄂邑区卫生职业', '西安交通大学（超星）--西安交通农民基地（安康育英中等职业）', '西安交通大学（超星）', '西安医学院（网梯）--长安区新时代职业技能', '长安大学（网梯）--西安汽车科技职业', '西安财经大学（弘成）--陕西省西安市阎良区职教中心', '西安医学院（网梯）--西安昆仑工业（集团）有限责任公司技工'}\n",
      "6 西安建筑工程技师 {'西安石油大学（青书）--西安石油化工技工', '陕西理工大学（）--西安建筑工程技师', '西安交通大学（超星）', '陕西科技大学--西安技术工程技术'}\n",
      "7 陕西全务人才发展 {'西安工程大学（）--陕西全务发展', '西安交通大学（超星）'}\n",
      "8 陕西农电技校 {'西安电子科技大学 （自建）--陕西省农业广播电视略阳县分校', '西安科技大学（超星）'}\n",
      "9 西安城市交通技师 {'长安大学（网梯）--陕西技术交通技师', '西安科技大学（超星）'}\n",
      "10 陕西天地财务会计技术 {'西安财经大学（弘成）', '西安石油大学（青书）--陕西天地财务会计技术'}\n",
      "11 安康高新中等职业 {'西安财经大学（弘成）', '西安石油大学（青书）--西安八一中等职业', '陕西中医药大学--安康育英中等职业', '西安医学院（网梯）--高教系统职业中等专业'}\n",
      "12 陕西新华电脑软件 {'西安工业大学（文才+弘成）', '西安工程大学（）--陕西新华电脑软件'}\n",
      "13 西安工程大本部 {'西安工程大学（）', '西安理工大学（文才）--西安理工大本部'}\n",
      "14 西安弗斯特艺术 {'西安工程大学（）--西安泰伦特艺术技工', '西安工程大学（）'}\n",
      "15 商州凯跃职业技能 {'西安医学院（网梯）--商州凯跃职业技能', '延安大学（青书）'}\n",
      "16 西安医护专修 {'陕西中医药大学--西安医护专修', '延安大学（青书）'}\n",
      "17 陕西省渭南技工 {'西安理工大学（文才）--陕西省印刷技工', '西安理工大学（文才）'}\n",
      "18 汉中南郑职教中心 {'西安理工大学（文才）', '西安理工大学（文才）--略阳县天津职教中心'}\n",
      "19 宝鸡亚太专修 {'陕西中医药大学--宝鸡亚太专修', '西安理工大学（文才）'}\n",
      "20 武功县中等卫生职业 {'陕西中医药大学', '陕西中医药大学--泾阳县中等卫生'}\n",
      "21 西安市体育运动 {'西安体育学院（）', '西安体育学院（）--宝鸡市体育运动'}\n"
     ]
    }
   ],
   "source": [
    "count =1\n",
    "for key in dicSch.keys():\n",
    "    if len(dicSch[key])>1:\n",
    "        print(count,key,dicSch[key])\n",
    "        count+=1"
   ]
  },
  {
   "cell_type": "code",
   "execution_count": 66,
   "metadata": {},
   "outputs": [],
   "source": []
  },
  {
   "cell_type": "code",
   "execution_count": 48,
   "metadata": {},
   "outputs": [],
   "source": [
    "ll = [1,3,4]\n",
    "def xx(ll):\n",
    "    ll.append(12)\n",
    "xx(ll)"
   ]
  },
  {
   "cell_type": "code",
   "execution_count": 5,
   "metadata": {},
   "outputs": [
    {
     "data": {
      "text/plain": [
       "'apple学校'"
      ]
     },
     "execution_count": 5,
     "metadata": {},
     "output_type": "execute_result"
    }
   ],
   "source": [
    "strt = \"apple学校\"\n",
    "strt.replace(\"1\",\"\")"
   ]
  }
 ],
 "metadata": {
  "kernelspec": {
   "display_name": "Python 3 (ipykernel)",
   "language": "python",
   "name": "python3"
  },
  "language_info": {
   "codemirror_mode": {
    "name": "ipython",
    "version": 3
   },
   "file_extension": ".py",
   "mimetype": "text/x-python",
   "name": "python",
   "nbconvert_exporter": "python",
   "pygments_lexer": "ipython3",
   "version": "3.9.7"
  }
 },
 "nbformat": 4,
 "nbformat_minor": 2
}
