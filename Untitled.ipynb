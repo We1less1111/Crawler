{
 "cells": [
  {
   "cell_type": "code",
   "execution_count": 5,
   "id": "5bfd53dd",
   "metadata": {},
   "outputs": [
    {
     "name": "stdout",
     "output_type": "stream",
     "text": [
      "https://guba.eastmoney.com/remenba.aspx?type=1&tab=1\n",
      "<html>\n",
      "<head><title>403 Forbidden</title></head>\n",
      "<body>\n",
      "<center><h1>403 Forbidden</h1></center>\n",
      "<hr/><center>Microsoft-IIS/10.0</center>\n",
      "</body>\n",
      "</html>\n",
      "\n"
     ]
    }
   ],
   "source": [
    "\n",
    "import pandas as pd\n",
    "from bs4 import BeautifulSoup\n",
    "import time\n",
    "import datetime\n",
    "import requests\n",
    "url = \"https://guba.eastmoney.com/remenba.aspx?type=1&tab=1\"\n",
    "\n",
    "#chrome_options.add_argument('--disable-browser-side-navigation')\n",
    "url = {\n",
    "    \"沪市\" : \"https://guba.eastmoney.com/remenba.aspx?type=1&tab=1\",\n",
    "    \"深市\"     : \"https://guba.eastmoney.com/remenba.aspx?type=1&tab=2\",\n",
    "  #  \"三板\": \"https://guba.eastmoney.com/remenba.aspx?type=1&tab=6\",\n",
    "    \"科创板\": \"https://guba.eastmoney.com/remenba.aspx?type=1&tab=7\",\n",
    "}\n",
    "url2f = {\n",
    "     \"沪市\" : \"sh\",\n",
    "    \"深市\"     : \"sz\",\n",
    "  #  \"三板\": \"https://guba.eastmoney.com/remenba.aspx?type=1&tab=6\",\n",
    "    \"科创板\": \"sh\",\n",
    "}\n",
    "ddict = {}\n",
    "tdsName = [\"code\",\"a股简称\",\"公司名全称\",\"人数\",\"所属证监会行业\",\"所属东财行业\",\"上市交易所\",\"公司网址\",\"电子邮箱\",\"注册地址\",\"联系电话\",\"公司简介\"]\n",
    "for key,values in url.items():\n",
    "    r = requests.get(values)\n",
    "    r.encoding='utf-8'\n",
    "    soup = BeautifulSoup(r.text)\n",
    "    print(values)\n",
    "    print(soup)\n",
    "    break\n",
    "    divs = soup.findAll(name=\"div\", attrs={\"class\": \"ngbglistdiv\"})\n",
    "    lis =  divs[0].findAll(name=\"li\")\n",
    "    ddict[key] = []\n",
    "    for li in lis:\n",
    "        try:\n",
    "            code = li.text[1:7]\n",
    "            name = li.text[8:]\n",
    "            url2 = \"http://f10.eastmoney.com/f10_v2/CompanySurvey.aspx?code=\" + url2f[key] + code\n",
    "            print(url2)\n",
    "            break\n",
    "\n",
    "    #         chrome_options = Options()\n",
    "    #         chrome_options.add_argument('--headless')\n",
    "    #         #chrome_options.add_argument('--disable-browser-side-navigation')\n",
    "    #         driver = webdriver.Chrome(options=chrome_options)\n",
    "            driver.get(url2)\n",
    "            time.sleep(1.5)\n",
    "\n",
    "            soup = BeautifulSoup(driver.page_source)\n",
    "            table = soup.findAll(name=\"table\")\n",
    "            print(url2)\n",
    "            tds = table[0].findAll(name=\"td\")\n",
    "            llist = [code,name]\n",
    "            llist.append(tds[0].text.strip())\n",
    "            llist.append(tds[30].text.strip())\n",
    "            llist.append(tds[13].text.strip())\n",
    "            llist.append(tds[11].text.strip())\n",
    "            llist.append(tds[12].text.strip())\n",
    "            llist.append(tds[23].text.strip())\n",
    "            llist.append(tds[21].text.strip())\n",
    "            llist.append(tds[25].text.strip())\n",
    "            llist.append(tds[20].text.strip())\n",
    "            llist.append(tds[34].text.strip())\n",
    "            ddict[key].append(llist)\n",
    "        except Exception as e:\n",
    "            print(\"ERR!!!!\" + url2)"
   ]
  },
  {
   "cell_type": "code",
   "execution_count": 1,
   "id": "f84729a0",
   "metadata": {},
   "outputs": [],
   "source": [
    "import requests\n"
   ]
  },
  {
   "cell_type": "code",
   "execution_count": null,
   "id": "3591e610",
   "metadata": {},
   "outputs": [],
   "source": [
    "from selenium import webdriver"
   ]
  },
  {
   "cell_type": "code",
   "execution_count": null,
   "id": "dfb75a41",
   "metadata": {},
   "outputs": [],
   "source": []
  },
  {
   "cell_type": "code",
   "execution_count": null,
   "id": "b5496213",
   "metadata": {},
   "outputs": [],
   "source": [
    "!conda install selenium"
   ]
  },
  {
   "cell_type": "code",
   "execution_count": null,
   "id": "02109302",
   "metadata": {},
   "outputs": [],
   "source": []
  }
 ],
 "metadata": {
  "kernelspec": {
   "display_name": "Python 3 (ipykernel)",
   "language": "python",
   "name": "python3"
  },
  "language_info": {
   "codemirror_mode": {
    "name": "ipython",
    "version": 3
   },
   "file_extension": ".py",
   "mimetype": "text/x-python",
   "name": "python",
   "nbconvert_exporter": "python",
   "pygments_lexer": "ipython3",
   "version": "3.9.7"
  }
 },
 "nbformat": 4,
 "nbformat_minor": 5
}
