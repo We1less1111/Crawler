{
 "cells": [
  {
   "cell_type": "code",
   "execution_count": 1,
   "id": "8ad69117",
   "metadata": {},
   "outputs": [],
   "source": [
    "from selenium import webdriver"
   ]
  },
  {
   "cell_type": "code",
   "execution_count": null,
   "id": "972dbed5",
   "metadata": {},
   "outputs": [
    {
     "name": "stdout",
     "output_type": "stream",
     "text": [
      "{} over 100\n",
      "{} over 200\n",
      "{} over 300\n",
      "{} over 400\n"
     ]
    }
   ],
   "source": [
    "from selenium.webdriver.chrome.options import Options\n",
    "from selenium import webdriver\n",
    "from selenium.webdriver.common.action_chains import ActionChains\n",
    "import pandas as pd\n",
    "from bs4 import BeautifulSoup\n",
    "import time\n",
    "import datetime\n",
    "import requests\n",
    "url = \"https://guba.eastmoney.com/remenba.aspx?type=1&tab=1\"\n",
    "chrome_options = Options()\n",
    "chrome_options.add_argument('--headless')\n",
    "#chrome_options.add_argument('--disable-browser-side-navigation')\n",
    "driver = webdriver.Chrome(options=chrome_options)\n",
    "url = {\n",
    "    \"沪市\" : \"https://guba.eastmoney.com/remenba.aspx?type=1&tab=1\",\n",
    "    \"深市\"     : \"https://guba.eastmoney.com/remenba.aspx?type=1&tab=2\",\n",
    "  #  \"三板\": \"https://guba.eastmoney.com/remenba.aspx?type=1&tab=6\",\n",
    "    \"科创板\": \"https://guba.eastmoney.com/remenba.aspx?type=1&tab=7\",\n",
    "}\n",
    "url2f = {\n",
    "     \"沪市\" : \"sh\",\n",
    "    \"深市\"     : \"sz\",\n",
    "  #  \"三板\": \"https://guba.eastmoney.com/remenba.aspx?type=1&tab=6\",\n",
    "    \"科创板\": \"sh\",\n",
    "}\n",
    "def getOther(url_suff):\n",
    "    url_profit = \"http://f10.eastmoney.com/NewFinanceAnalysis/Index?type=web&code=\" + url_suff\n",
    "    driver.get(url_profit)\n",
    "    time.sleep(0.5)\n",
    "    soup = BeautifulSoup(driver.page_source)\n",
    "\n",
    "    tbs = soup.find(name=\"table\", attrs={\"class\": \"needScroll\"})\n",
    "    trs  = tbs.findAll(name=\"tr\")\n",
    "    tds = trs[9].findAll(name=\"td\")\n",
    "    x = tds[3].text.strip()\n",
    "    \n",
    "    tds = trs[10].findAll(name=\"td\")\n",
    "    y = tds[3].text.strip()\n",
    "    return x,y\n",
    "\n",
    "ddict = {}\n",
    "count = 0 \n",
    "tdsName = [\"code\",\"a股简称\",\"公司名全称\",\"雇员人数\",\"所属证监会行业\",\"所属东财行业\",\"上市交易所\",\"公司网址\",\"电子邮箱\",\"注册地址\",\"联系电话\",\"公司简介\",\"总收入\",\"净利润\"]\n",
    "tdsName_new = [\"code\",\"a股简称\",\"区域\",\"雇员人数\",\"所属东财行业\",\"注册地址\",\"管理人员数目\",\"营业总收入\",\"归属净利润\"]\n",
    "for key,values in url.items():\n",
    "    driver.get(values)\n",
    "    soup = BeautifulSoup(driver.page_source)\n",
    "    divs = soup.findAll(name=\"div\", attrs={\"class\": \"ngbglistdiv\"})\n",
    "    lis =  divs[0].findAll(name=\"li\")\n",
    "    ddict[key] = []\n",
    "    for li in lis:\n",
    "        try:\n",
    "            code = li.text[1:7]\n",
    "            name = li.text[8:]\n",
    "            url2 = \"http://f10.eastmoney.com/f10_v2/CompanySurvey.aspx?code=\" + url2f[key] + code\n",
    "\n",
    "            chrome_options = Options()\n",
    "            chrome_options.add_argument('--headless')\n",
    "            #chrome_options.add_argument('--disable-browser-side-navigation')\n",
    "            driver = webdriver.Chrome(options=chrome_options)\n",
    "            driver.get(url2)\n",
    "            time.sleep(1)\n",
    "\n",
    "            soup = BeautifulSoup(driver.page_source)\n",
    "            table = soup.findAll(name=\"table\")\n",
    "            tds = table[0].findAll(name=\"td\")\n",
    "            llist = [code,name]\n",
    "#             llist.append(tds[0].text.strip())\n",
    "#             llist.append(tds[30].text.strip())\n",
    "#             llist.append(tds[13].text.strip())\n",
    "#             llist.append(tds[11].text.strip())\n",
    "#             llist.append(tds[12].text.strip())\n",
    "#             llist.append(tds[23].text.strip())\n",
    "#             llist.append(tds[21].text.strip())\n",
    "#             llist.append(tds[25].text.strip())\n",
    "#             llist.append(tds[20].text.strip())\n",
    "#             llist.append(tds[34].text.strip())\n",
    "            llist.append(tds[26].text.strip())\n",
    "            llist.append(tds[30].text.strip())\n",
    "            llist.append(tds[11].text.strip())\n",
    "            llist.append(tds[25].text.strip())\n",
    "            llist.append(tds[31].text.strip())\n",
    "#             t1,t2 = getOther(url2f[key] + code)\n",
    "#             llist.append(t1)\n",
    "#             llist.append(t2)\n",
    "            ddict[key].append(llist)\n",
    "            count += 1\n",
    "            if count >0 and count%100 == 0:\n",
    "                print(\"{} over\",count)\n",
    "        except Exception as e:\n",
    "            print(\"ERR!!!!\" + url2)\n",
    "            \n",
    "xlsWriter = pd.ExcelWriter(\"Comapanies_20230910.xls\")\n",
    "for key,value in url.items():\n",
    "    t = pd.DataFrame(ddict[key])\n",
    "    t.columns  = tdsName_new[:len(tdsName_new)-2]\n",
    "    t.to_excel(excel_writer=xlsWriter, sheet_name=key,index=None)\n",
    "xlsWriter.close()"
   ]
  },
  {
   "cell_type": "code",
   "execution_count": 53,
   "id": "7913bcd8",
   "metadata": {},
   "outputs": [],
   "source": [
    "\n",
    "from selenium.webdriver.chrome.options import Options\n",
    "from selenium import webdriver\n",
    "from selenium.webdriver.common.action_chains import ActionChains\n",
    "import pandas as pd\n",
    "from bs4 import BeautifulSoup\n",
    "import time\n",
    "import datetime\n",
    "import requests\n",
    "url = \"https://guba.eastmoney.com/remenba.aspx?type=1&tab=1\"\n",
    "chrome_options = Options()\n",
    "chrome_options.add_argument('--headless')\n",
    "#chrome_options.add_argument('--disable-browser-side-navigation')\n",
    "driver = webdriver.Chrome(options=chrome_options)"
   ]
  },
  {
   "cell_type": "code",
   "execution_count": 96,
   "id": "599ffb00",
   "metadata": {},
   "outputs": [
    {
     "name": "stdout",
     "output_type": "stream",
     "text": [
      "\n",
      "1886亿\n",
      "\n",
      "\n",
      "511.7亿\n",
      "\n"
     ]
    }
   ],
   "source": [
    "url_profit = \"http://f10.eastmoney.com/NewFinanceAnalysis/Index?type=web&code=sh600000\"\n",
    "driver.get(url_profit)\n",
    "soup = BeautifulSoup(driver.page_source)\n",
    "#print(soup)\n",
    "\n",
    "tbs = soup.find(name=\"table\", attrs={\"class\": \"needScroll\"})\n",
    "trs  = tbs.findAll(name=\"tr\")\n",
    "tds = trs[9].findAll(name=\"td\")\n",
    "print(tds[3].text)\n",
    "tds = trs[10].findAll(name=\"td\")\n",
    "print(tds[3].text)\n",
    "\n",
    "\n"
   ]
  },
  {
   "cell_type": "code",
   "execution_count": null,
   "id": "b2059a38",
   "metadata": {},
   "outputs": [],
   "source": [
    "xlsWriter = pd.ExcelWriter(\"wealth_Gupiao.xls\")\n",
    "for key,value in url.items():\n",
    "    t = pd.DataFrame(ddict[key])\n",
    "    t.columns  = [\"code\",\"a股简称\",\"公司名全称\",\"人数\",\"所属证监会行业\",\"所属东财行业\",\"上市交易所\",\"公司网址\",\"电子邮箱\",\"注册地址\",\"联系电话\",\"公司简介\",\"总收入\",\"净利润\"]\n",
    "    t.to_excel(excel_writer=xlsWriter, sheet_name=key,index=None)\n",
    "xlsWriter.close()"
   ]
  }
 ],
 "metadata": {
  "kernelspec": {
   "display_name": "py3.7",
   "language": "python",
   "name": "py3.7"
  },
  "language_info": {
   "codemirror_mode": {
    "name": "ipython",
    "version": 3
   },
   "file_extension": ".py",
   "mimetype": "text/x-python",
   "name": "python",
   "nbconvert_exporter": "python",
   "pygments_lexer": "ipython3",
   "version": "3.7.13"
  }
 },
 "nbformat": 4,
 "nbformat_minor": 5
}
